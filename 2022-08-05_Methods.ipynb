{
 "cells": [
  {
   "cell_type": "markdown",
   "metadata": {},
   "source": [
    "## Setup"
   ]
  },
  {
   "cell_type": "code",
   "execution_count": 4,
   "metadata": {},
   "outputs": [],
   "source": [
    "import geopandas as gp\n",
    "import pandas as pd"
   ]
  },
  {
   "cell_type": "markdown",
   "metadata": {},
   "source": [
    "# GTFS Import\n",
    "Importing the GTFS feed with all the stops and stations to display them on a map. This step will allow a first quality assesment of the data. As GTFS is basically a relational database made up of various comma-separated text files, we'll first need to make sure pandas and geopandas can read them properly. The first file we'll look at is `stops.txt`, because it is the only that actually contains geo-referenced data, the stop locations. All the other files in the GTFS feed are referencing these stops to create relations between them"
   ]
  },
  {
   "cell_type": "code",
   "execution_count": 7,
   "metadata": {},
   "outputs": [],
   "source": [
    "stops_dataframe = pd.read_csv(\"2022-07-26_RNV_GTFS_Schedule\\\\stops.txt\")\n",
    "stops_dataframe.to_csv(\"stops.csv\")"
   ]
  },
  {
   "cell_type": "markdown",
   "metadata": {},
   "source": [
    "Now we have the GTFS stop file as a .csv. we need to make sure the columns stop_lon, and stop_lat are converted to a format that geopandas can work with"
   ]
  },
  {
   "cell_type": "code",
   "execution_count": 12,
   "metadata": {},
   "outputs": [
    {
     "name": "stdout",
     "output_type": "stream",
     "text": [
      "   stop_id             stop_name   stop_lat  stop_lon  location_type  \\\n",
      "0    11601  Bad Dürkheim Bahnhof  49.461528  8.170429              0   \n",
      "1    13401      Bad Dürkheim Ost  49.463490  8.185206              0   \n",
      "2    13402      Bad Dürkheim Ost  49.463420  8.184254              0   \n",
      "3    51501    Dossenheim Bahnhof  49.448191  8.670171              0   \n",
      "4    51502    Dossenheim Bahnhof  49.448553  8.669533              0   \n",
      "\n",
      "  platform_code                  geometry  \n",
      "0             1  POINT (49.46153 8.17043)  \n",
      "1             1  POINT (49.46349 8.18521)  \n",
      "2             2  POINT (49.46342 8.18425)  \n",
      "3             1  POINT (49.44819 8.67017)  \n",
      "4             2  POINT (49.44855 8.66953)  \n"
     ]
    }
   ],
   "source": [
    "stops_geoframe = gp.GeoDataFrame(stops_dataframe, geometry=gp.points_from_xy(stops_dataframe.stop_lat, stops_dataframe.stop_lon) )\n",
    "print(stops_geoframe.head())"
   ]
  },
  {
   "cell_type": "markdown",
   "metadata": {},
   "source": [
    "Let's try and plot this"
   ]
  },
  {
   "cell_type": "code",
   "execution_count": 13,
   "metadata": {},
   "outputs": [
    {
     "data": {
      "text/plain": [
       "<AxesSubplot:>"
      ]
     },
     "execution_count": 13,
     "metadata": {},
     "output_type": "execute_result"
    },
    {
     "data": {
      "image/png": "[encoded data removed]",
      "text/plain": [
       "<Figure size 432x288 with 1 Axes>"
      ]
     },
     "metadata": {
      "needs_background": "light"
     },
     "output_type": "display_data"
    }
   ],
   "source": [
    "stops_geoframe.plot()"
   ]
  },
  {
   "cell_type": "markdown",
   "metadata": {},
   "source": [
    "Well we do have a sensible plot, but we might need some more data to really read it"
   ]
  }
 ],
 "metadata": {
  "kernelspec": {
   "display_name": "Python 3.9.12 ('PublicTransport')",
   "language": "python",
   "name": "python3"
  },
  "language_info": {
   "name": "python",
   "version": "3.9.12"
  },
  "orig_nbformat": 4,
  "vscode": {
   "interpreter": {
    "hash": "8d742a1a145149429afcb360bcb90876ffede2fec5adc6990490bb17a42470a5"
   }
  }
 },
 "nbformat": 4,
 "nbformat_minor": 2
}
