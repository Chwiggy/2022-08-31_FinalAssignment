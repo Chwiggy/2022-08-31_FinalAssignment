{
 "cells": [
  {
   "cell_type": "markdown",
   "metadata": {},
   "source": [
    "## Setup"
   ]
  },
  {
   "cell_type": "code",
   "execution_count": 4,
   "metadata": {},
   "outputs": [],
   "source": [
    "import geopandas as gp\n",
    "import pandas as pd"
   ]
  },
  {
   "cell_type": "markdown",
   "metadata": {},
   "source": [
    "# GTFS Import\n",
    "Importing the GTFS file with all the stops and stations to display them on a map. This step will allow a first quality assesment of the data. Unfortunately the GTFS file with station coordinates is not in a format supported as a geometry file."
   ]
  },
  {
   "cell_type": "code",
   "execution_count": 7,
   "metadata": {},
   "outputs": [],
   "source": [
    "stops_dataframe = pd.read_csv(\"2022-07-26_RNV_GTFS_Schedule\\\\stops.txt\")\n",
    "stops_dataframe.to_csv(\"stops.csv\")"
   ]
  },
  {
   "cell_type": "markdown",
   "metadata": {},
   "source": [
    "Now we have the GTFS stop file as a .csv"
   ]
  },
  {
   "cell_type": "code",
   "execution_count": null,
   "metadata": {},
   "outputs": [],
   "source": [
    "stops_geoframe = "
   ]
  }
 ],
 "metadata": {
  "kernelspec": {
   "display_name": "Python 3.9.12 ('PublicTransport')",
   "language": "python",
   "name": "python3"
  },
  "language_info": {
   "name": "python",
   "version": "3.9.12"
  },
  "orig_nbformat": 4,
  "vscode": {
   "interpreter": {
    "hash": "8d742a1a145149429afcb360bcb90876ffede2fec5adc6990490bb17a42470a5"
   }
  }
 },
 "nbformat": 4,
 "nbformat_minor": 2
}
